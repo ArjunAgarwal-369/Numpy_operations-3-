{
 "cells": [
  {
   "cell_type": "code",
   "execution_count": 4,
   "id": "b26195c0-ffbd-4a7d-80c3-e27a6de248ce",
   "metadata": {},
   "outputs": [
    {
     "name": "stdout",
     "output_type": "stream",
     "text": [
      "[24 26 38 48  2]\n",
      "\n",
      "[[ 8 42]\n",
      " [48 13]]\n",
      "\n",
      "[[4.17022005e+00 7.20324493e+00]\n",
      " [1.14374817e-03 3.02332573e+00]]\n"
     ]
    }
   ],
   "source": [
    "import numpy as np\n",
    "#FOR INTEGERS\n",
    "a=np.random.default_rng(seed=1) #seed is used for always getting the same array as an output.\n",
    "print(a.integers(1, 51, 5))     #start value, stop value, number of values \n",
    "print(\"\")\n",
    "\n",
    "#for getting it as a 2d array.\n",
    "print(a.integers(1, 51, size=(2,2)))\n",
    "print(\"\")\n",
    "\n",
    "#FOR FLOATING POINT NUMBERS\n",
    "np.random.seed(seed=1)\n",
    "print(np.random.uniform(0, 10, size=(2,2))) # In uniform() each value has uniform or equal chance of its occurance"
   ]
  },
  {
   "cell_type": "code",
   "execution_count": 17,
   "id": "9add8f93-c9e6-4be2-a86f-bc4e58f00d2e",
   "metadata": {},
   "outputs": [
    {
     "name": "stdout",
     "output_type": "stream",
     "text": [
      "[[ 1  2  3  4  5]\n",
      " [ 6  7  8  9 10]\n",
      " [11 12 13 14 15]]\n",
      "\n",
      "after shuffling\n",
      "[[ 1  2  3  4  5]\n",
      " [11 12 13 14 15]\n",
      " [ 6  7  8  9 10]]\n"
     ]
    }
   ],
   "source": [
    "#SHUFFLING AN ARRAY\n",
    "s=np.random.default_rng()\n",
    "arr=np.array([[1,2,3,4,5],\n",
    "              [6,7,8,9,10],\n",
    "              [11,12,13,14,15]])\n",
    "print(arr)\n",
    "print(\"\")\n",
    "\n",
    "#Using shuffle() to shuffle the rows of the array\n",
    "print(\"after shuffling\") \n",
    "s.shuffle(arr)  #It will shuffle the original array\n",
    "print(arr)\n",
    "\n",
    "\n",
    "\n"
   ]
  },
  {
   "cell_type": "code",
   "execution_count": 18,
   "id": "717f7890-84be-4db2-8308-f006a11762bd",
   "metadata": {},
   "outputs": [
    {
     "name": "stdout",
     "output_type": "stream",
     "text": [
      "apple🍏\n",
      "[['mango🥭' 'orange🍊' 'apple🍏' 'apple🍏']\n",
      " ['coconut🥥' 'banana' 'apple🍏' 'orange🍊']\n",
      " ['apple🍏' 'banana' 'mango🥭' 'orange🍊']\n",
      " ['banana' 'banana' 'apple🍏' 'coconut🥥']]\n"
     ]
    }
   ],
   "source": [
    "s=np.random.default_rng()\n",
    "arr=([\"apple🍏\",\"banana\",\"orange🍊\",\"coconut🥥\",\"mango🥭\"]) # press(win + ;) for emojis\n",
    "ch=s.choice(arr) #prints a random element\n",
    "print(ch)\n",
    "\n",
    "ch=s.choice(arr,size=(4,4)) #prints specified num of random elements\n",
    "print(ch)"
   ]
  },
  {
   "cell_type": "code",
   "execution_count": null,
   "id": "161a4c18-3403-4242-8838-b3ed1f73b775",
   "metadata": {},
   "outputs": [],
   "source": []
  }
 ],
 "metadata": {
  "kernelspec": {
   "display_name": "Python 3 (ipykernel)",
   "language": "python",
   "name": "python3"
  },
  "language_info": {
   "codemirror_mode": {
    "name": "ipython",
    "version": 3
   },
   "file_extension": ".py",
   "mimetype": "text/x-python",
   "name": "python",
   "nbconvert_exporter": "python",
   "pygments_lexer": "ipython3",
   "version": "3.13.5"
  }
 },
 "nbformat": 4,
 "nbformat_minor": 5
}
